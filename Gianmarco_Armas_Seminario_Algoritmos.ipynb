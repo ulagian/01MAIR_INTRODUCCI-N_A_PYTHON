{
  "nbformat": 4,
  "nbformat_minor": 0,
  "metadata": {
    "colab": {
      "name": "Gianmarco Armas Seminario - Algoritmos.ipynb",
      "provenance": [],
      "collapsed_sections": [],
      "include_colab_link": true
    },
    "kernelspec": {
      "name": "python3",
      "display_name": "Python 3"
    }
  },
  "cells": [
    {
      "cell_type": "markdown",
      "metadata": {
        "id": "view-in-github",
        "colab_type": "text"
      },
      "source": [
        "<a href=\"https://colab.research.google.com/github/ulagian/01MAIR_INTRODUCCION_A_PYTHON/blob/main/Gianmarco_Armas_Seminario_Algoritmos.ipynb\" target=\"_parent\"><img src=\"https://colab.research.google.com/assets/colab-badge.svg\" alt=\"Open In Colab\"/></a>"
      ]
    },
    {
      "cell_type": "markdown",
      "metadata": {
        "id": "hVbXYX-RfPWh"
      },
      "source": [
        "# Algoritmos de optimización - Seminario<br>\n",
        "Alumno: Gianmarco Armas Arroyo <br>\n",
        "URL: [https://colab.research.google.com/drive/1HQA-1bQ_T7PGsDNSBSr9RN158noRWbRA?usp=sharing](https://colab.research.google.com/drive/1HQA-1bQ_T7PGsDNSBSr9RN158noRWbRA?usp=sharing) <br>\n",
        "URL GitHub: [https://github.com/ulagian/03MAIR-Algoritmos-de-Optimizacion/tree/main/Seminario](https://github.com/ulagian/03MAIR-Algoritmos-de-Optimizacion/tree/main/Seminario) <br>\n",
        "Problema:\n",
        ">**3. Combinar cifras y operaciones**\n",
        "\n",
        "Descripción del problema:<br>\n",
        "El problema consiste en **analizar** el siguiente problema y **diseñar** un algoritmo que lo **resuelva**.<br>\n",
        "\n",
        "Disponemos de las 9 cifras del 1 al 9 (excluimos el cero) y de los 4 signos básicos de las operaciones fundamentales: suma(+), resta(-), multiplicación(*) y división(/).<br>\n",
        "\n",
        "Debemos **combinarlos alternativamente sin repetir ninguno de ellos** para obtener una cantidad dada. Un ejemplo sería para obtener el 4:<br>\n",
        "\n",
        "**4+2-6/3*1 = 4**<br>\n",
        "\n",
        "Nota: Es posible usar la función de python “**eval**” para evaluar una expresión:\n",
        "\n",
        "(*) La respuesta es obligatoria                                        "
      ]
    },
    {
      "cell_type": "markdown",
      "metadata": {
        "id": "3_-exlrTgLd-"
      },
      "source": [
        "**1a PREGUNTA**<br>\n",
        "**(*)**¿Cuantas posibilidades hay sin tener en cuenta las restricciones?<br>\n",
        "**Para esta primera pregunta sobre las posibilidades sin restricciones usamos la exponenciación donde calculamos todas las posibilidades posibles. Para los numeros obtenemos todas las distintas posibilidades de hacer grupos de 5 numeros de una lista de 9 numeros, dónde tenemos 9^5 posibilidades. Y multiplicamos todas las posibilidades para los signos con repeticion, donde tenemos 4^4. Ambos con una fórmula de:\n",
        "\\begin{equation}\n",
        "C(n,x) = n^x\n",
        "\\end{equation}\n",
        "Finalmente obtenemos un total de 15.116.544 distintas posibilidades**.<br>\n",
        "\n",
        "**(Opcional)** ¿Cuantas posibilidades hay teniendo en cuenta todas las restricciones.<br>\n",
        "**Para esta pregunta opcional, ahora restringimos las posibilidades de obtener combinaciones, ya que no podemos repetir ningún miembro de la lista de numeros ni de signos. Por tanto para los numeros nos quedamos con una combinatoria sin repeticiones de formula:\n",
        "\\begin{equation}\n",
        "C(n,x) = n!/ (n-x)!\n",
        "\\end{equation}\n",
        "Mientras que para los signos mediante una factorial, tenemos todas las combinaciones sin repeticiones, con fórmula:\n",
        "\\begin{equation}\n",
        "C(n) = n!\n",
        "\\end{equation}\n",
        "Finalmente obtenemos un total de 362.880 distintas posibilidades**"
      ]
    },
    {
      "cell_type": "code",
      "metadata": {
        "id": "iq6Fe32MgpDX",
        "colab": {
          "base_uri": "https://localhost:8080/"
        },
        "outputId": "5f5aedf1-881f-44db-cd6b-6cd3a1da8eba"
      },
      "source": [
        "\"\"\"\r\n",
        "Importamos la libreria math para utilizar la función factorial para calcular\r\n",
        "la cantidad de posibilidades\r\n",
        "\"\"\"\r\n",
        "import math\r\n",
        "\r\n",
        "# Declaramos elementos\r\n",
        "numeros=[1,2,3,4,5,6,7,8,9]\r\n",
        "signos=[\"+\",\"-\",\"*\",\"/\"]\r\n",
        "\r\n",
        "# Calculamos todas las combinaciones posibles\r\n",
        "def combinaciones_repeticion(posibilidades,digitos):\r\n",
        "  return pow(posibilidades,digitos)\r\n",
        "\r\n",
        "# La función de las distintas posibilidades sin restricciones\r\n",
        "# la tenemos en cuenta sabiendo que siempre utilizaremos\r\n",
        "# 5 numeros de la lista para el cálculo (nºsignos + 1) y que podemos repetir\r\n",
        "# tanto los numeros como los signos\r\n",
        "def posibilidades_sin_restricciones(cantidad_numeros,cantidad_signos):\r\n",
        "  numeros_elegir= cantidad_signos + 1\r\n",
        "  posibilidades_numeros=combinaciones_repeticion(cantidad_numeros,numeros_elegir)\r\n",
        "  posibilidades_signos=combinaciones_repeticion(cantidad_signos,cantidad_signos)\r\n",
        "  return int(posibilidades_numeros*posibilidades_signos)\r\n",
        "  \r\n",
        "res_sin_restricciones=posibilidades_sin_restricciones(len(numeros),len(signos))\r\n",
        "print(\"*****PRIMERA PREGUNTA OBLIGATORIA*****\")\r\n",
        "print(\"Hay\",res_sin_restricciones,\"diferentes posibilidades cuando no hay restricciones\")\r\n",
        "\r\n",
        "# Calculamos todas las combinaciones posibles sin repeticion\r\n",
        "def combinaciones_repeticion(posibilidades,digitos_seleccionados):\r\n",
        "  numerador=math.factorial(posibilidades)\r\n",
        "  #denominador=math.factorial(digitos_seleccionados) * math.factorial(posibilidades-digitos_seleccionados)\r\n",
        "  denominador=math.factorial(posibilidades-digitos_seleccionados)\r\n",
        "  return (numerador/denominador)\r\n",
        "\r\n",
        "# La función de las distintas posibilidades con restricciones\r\n",
        "# la tenemos en cuenta sabiendo que siempre utilizaremos\r\n",
        "# 5 numeros de la lista para el cálculo (nºsignos + 1) pero que nunca podemos\r\n",
        "# repetir ni los números ni los signos\r\n",
        "def posibilidades_con_restricciones(cantidad_numeros,cantidad_signos):\r\n",
        "  numeros_elegir= cantidad_signos + 1\r\n",
        "  posibilidades_numeros=combinaciones_repeticion(cantidad_numeros,numeros_elegir)\r\n",
        "  posibilidades_signos=math.factorial(cantidad_signos)\r\n",
        "  return int(posibilidades_numeros*posibilidades_signos)\r\n",
        "\r\n",
        "res_con_restricciones=posibilidades_con_restricciones(len(numeros),len(signos))\r\n",
        "print(\"\\n*****PRIMERA PREGUNTA OPCIONAL*****\")\r\n",
        "print(\"Hay\",res_con_restricciones,\"diferentes posibilidades cuando hay restricciones\")"
      ],
      "execution_count": 1,
      "outputs": [
        {
          "output_type": "stream",
          "text": [
            "*****PRIMERA PREGUNTA OBLIGATORIA*****\n",
            "Hay 15116544 diferentes posibilidades cuando no hay restricciones\n",
            "\n",
            "*****PRIMERA PREGUNTA OPCIONAL*****\n",
            "Hay 362880 diferentes posibilidades cuando hay restricciones\n"
          ],
          "name": "stdout"
        }
      ]
    },
    {
      "cell_type": "markdown",
      "metadata": {
        "id": "dzynfVJahHoY"
      },
      "source": [
        "**2a PREGUNTA**<br>\n",
        "Modelo para el espacio de soluciones<br>\n",
        "**(*)** ¿Cual es la estructura de datos que mejor se adapta al problema. Argumentalo.<br>\n",
        "(Es posible que hayas elegido una al principio y veas la necesidad de cambiar, argumentalo)<br>\n",
        "**Para esta segunda pregunta sobre la estructura de datos, teniendo en cuenta que podemos usar la función \"eval\", he repensado mi idea inicial sobre estructurar los datos. Al principio para el cálculo de las posibilidades, use la lista de int para numeros. <br>Pero usando $eval$, mejor adoptaré una lista de strings para los números.<br>\n",
        "numeros=[\"1\",\"2\",\"3\",\"4\",\"5\",\"6\",\"7\",\"8\",\"9\"]**"
      ]
    },
    {
      "cell_type": "markdown",
      "metadata": {
        "id": "7Z9U2W7bi-XS"
      },
      "source": [
        "**3a PREGUNTA**<br>\n",
        "Según el modelo para el espacio de soluciones<br>\n",
        "**(*)**¿Cual es la función objetivo?<br>\n",
        "**Podríamos definimos nuestra función objetivo como la distancia entre nuestro valor calculado $(c)$ respecto al valor objetivo $(o)$. Y el objetivo es que esta función objetivo sea 0, para decir que hemos obtenido el valor objetivo.**\n",
        "\\begin{equation}\n",
        "f(x) = |o-c|\n",
        "\\end{equation}<br> \n",
        "**(*)**¿Es un problema de maximización o minimización?<br>\n",
        "**Y por otra parte nos encontramos con un problema de minimización, ya que devolveremos siempre aquellos valores que permiten que nuestra función objetivo sea igual a 0. Por lo tanto hemos de buscar minimizar nuestra $f(x)$**"
      ]
    },
    {
      "cell_type": "markdown",
      "metadata": {
        "id": "rlnTYgY1j6I2"
      },
      "source": [
        "**4a PREGUNTA**<br>\r\n",
        "**(Opcional)** Diseña un algoritmo para resolver el problema por fuerza bruta <br>\r\n",
        "**Utilizamos la libreria de itertools para crear todas las combinaciones posibles para la lista de numeros y signos y los recorremos todos. Usaremos una funcion de crear expresion donde concatenaremos los numeros con los signos para poder evaluar la expresion.**"
      ]
    },
    {
      "cell_type": "code",
      "metadata": {
        "id": "CJb5sQ0qkENy",
        "colab": {
          "base_uri": "https://localhost:8080/"
        },
        "outputId": "6e2e74c7-87a7-4317-d366-3f4e603591ad"
      },
      "source": [
        "import itertools     # Función para realizar iteraciones eficientes\r\n",
        "numeros=[\"1\",\"2\",\"3\",\"4\",\"5\",\"6\",\"7\",\"8\",\"9\"] # Cambiamos la lista de numeros a string\r\n",
        "signos=[\"+\",\"-\",\"*\",\"/\"] # Volvemos a declarar nuestra lista de signos\r\n",
        "\r\n",
        "# Con esta función juntamos las combinaciones de numeros con los signos\r\n",
        "# para obtener la expresion matemática a evaluar\r\n",
        "def crear_expresion(numeros,signos):\r\n",
        "  expresion=\"\"\r\n",
        "  # Recorremos la cantidad de signos para agruparlos con los numeros\r\n",
        "  for i in range(len(signos)):\r\n",
        "    expresion+=numeros[i]+signos[i]\r\n",
        "  # Después de recorrer queda un ultimo numero sin asignar signo que va al final\r\n",
        "  # de la expresion\r\n",
        "  expresion+=numeros[len(numeros)-1]\r\n",
        "  return expresion\r\n",
        "\r\n",
        "# Definimos la función de fuerza bruta\r\n",
        "def fuerza_bruta(objetivo:int):\r\n",
        "  iteracion=0\r\n",
        "  # Para todas las posibles combinaciones de numeros\r\n",
        "  for combinacion in itertools.permutations(numeros,len(signos)+1):\r\n",
        "    # Para todas las posibles combinaciones de los signos\r\n",
        "    for operacion in itertools.permutations(signos):\r\n",
        "      # Creamos la expresion y la evaluamos hasta que consiga el resultado\r\n",
        "      expresion=crear_expresion(combinacion,operacion)\r\n",
        "      iteracion+=1\r\n",
        "      if eval(expresion)==objetivo:\r\n",
        "        return expresion,iteracion\r\n",
        "\r\n",
        "objetivo=55\r\n",
        "res_expresion,iteraciones=fuerza_bruta(objetivo)\r\n",
        "print(\"*****CUARTA PREGUNTA OPCIONAL*****\\n\")\r\n",
        "print(\"*****ALGORITMO DE FUERZA BRUTA*****\")\r\n",
        "print(\"Para el objetivo\",objetivo,\"hemos obtenido los siguientes resultados con fuerza bruta:\\n\")\r\n",
        "print(\"Expresión:\",res_expresion)\r\n",
        "print(\"Resultado:\",objetivo)\r\n",
        "print(\"Iteracion del resultado:\",iteraciones)"
      ],
      "execution_count": 2,
      "outputs": [
        {
          "output_type": "stream",
          "text": [
            "*****CUARTA PREGUNTA OPCIONAL*****\n",
            "\n",
            "*****ALGORITMO DE FUERZA BRUTA*****\n",
            "Para el objetivo 55 hemos obtenido los siguientes resultados con fuerza bruta:\n",
            "\n",
            "Expresión: 1-4/2+7*8\n",
            "Resultado: 55\n",
            "Iteracion del resultado: 10523\n"
          ],
          "name": "stdout"
        }
      ]
    },
    {
      "cell_type": "markdown",
      "metadata": {
        "id": "tgrnsC2nkFa8"
      },
      "source": [
        "**5a PREGUNTA**<br>\r\n",
        "**(Opcional)** Calcula la complejidad del algoritmo por fuerza bruta.<br>\r\n",
        "**Tal como habíamos calculado para la 1a pregunta, decimos que por fuerza bruta con las restricciones tenemos 362.880 posibilidades que vienen dadas por la utilización del factorial por la fuerza bruta. Con todo esto tenemos una complejidad de orden factorial $O(n!)$**"
      ]
    },
    {
      "cell_type": "code",
      "metadata": {
        "id": "rvZWwL-ckRST",
        "colab": {
          "base_uri": "https://localhost:8080/"
        },
        "outputId": "5d7bf21a-393c-4dbc-9936-7a2a6190f6cd"
      },
      "source": [
        "# Utilizamos nuestra función de posibilidades_con_restricciones como habiamos\r\n",
        "# hecho para la 1a pregunta\r\n",
        "complejidad=posibilidades_con_restricciones(len(numeros),len(signos))\r\n",
        "\r\n",
        "print(\"*****QUINTA PREGUNTA OPCIONAL*****\\n\")\r\n",
        "print(\"*****COMPLEJIDAD DEL ALGORITMO DE FUERZA BRUTA*****\")\r\n",
        "print(\"La complejidad de nuestro algoritmo de fuerza bruta és de orden factorial.\")\r\n",
        "print(\"Nuestro algoritmo ha de recorrer las\",complejidad,\"opciones que tiene.\")"
      ],
      "execution_count": 3,
      "outputs": [
        {
          "output_type": "stream",
          "text": [
            "*****QUINTA PREGUNTA OPCIONAL*****\n",
            "\n",
            "*****COMPLEJIDAD DEL ALGORITMO DE FUERZA BRUTA*****\n",
            "La complejidad de nuestro algoritmo de fuerza bruta és de orden factorial.\n",
            "Nuestro algoritmo ha de recorrer las 362880 opciones que tiene.\n"
          ],
          "name": "stdout"
        }
      ]
    },
    {
      "cell_type": "markdown",
      "metadata": {
        "id": "txbrmLmskReM"
      },
      "source": [
        "**6a PREGUNTA**<br>\r\n",
        "**(*)** Diseña un algoritmo que mejore la complejidad del algortimo por fuerza bruta. Argumenta porque crees que mejora el algoritmo por fuerza bruta.<br>\r\n",
        "**Para mejorar el algoritmo de fuerza bruta antes diseñado, hemos pensado en los algoritmos metaheurísticos y en concreto de uno sencillo como la búsqueda local, pensado para encontrar la mínima distancia posible. Gracias a su aleatoriedad puede ser una mejor opción que recorrer todas las posibles combinaciones.**"
      ]
    },
    {
      "cell_type": "code",
      "metadata": {
        "id": "m1eyM21Vkabg",
        "colab": {
          "base_uri": "https://localhost:8080/"
        },
        "outputId": "27e5b841-403b-46b7-e0aa-65b2fcf368cb"
      },
      "source": [
        "import copy\r\n",
        "import random\r\n",
        "\r\n",
        "def solucion_aleatoria(numeros,signos):\r\n",
        "  # Copiamos la lista de numeros y signos\r\n",
        "  copia_numeros=copy.deepcopy(numeros)\r\n",
        "  copia_signos=copy.deepcopy(signos)\r\n",
        "  expresion=\"\"\r\n",
        "  # Recorremos la cantidad de signos para agruparlos con los numeros\r\n",
        "  for i in range(len(copia_signos)):\r\n",
        "    # Elegimos un numero y signo random de las listas copiadas y las quitamos \r\n",
        "    # para no volver a utilizarla\r\n",
        "    numero_random=random.choice(copia_numeros)\r\n",
        "    copia_numeros.remove(numero_random)\r\n",
        "    signo_random=random.choice(copia_signos)\r\n",
        "    copia_signos.remove(signo_random)\r\n",
        "    expresion+=numero_random+signo_random\r\n",
        "  # Después de recorrer queda un ultimo numero sin asignar signo que va al final\r\n",
        "  # de la expresion\r\n",
        "  ultimo_numero=random.choice(copia_numeros)\r\n",
        "  expresion+=ultimo_numero[0]\r\n",
        "  # Si la evaluación es un numero entero devuelvelo\r\n",
        "  if eval(expresion).is_integer():\r\n",
        "    return eval(expresion),expresion\r\n",
        "  # Sino usa recursividad\r\n",
        "  return solucion_aleatoria(numeros,signos)\r\n",
        "\r\n",
        "# Función para calcular distancia entre calculado y objetivo \r\n",
        "def distancia(calculado,objetivo):\r\n",
        "  return abs(objetivo-calculado)\r\n",
        "\r\n",
        "# Funcion para calcular el objetivo mediante busqueda local\r\n",
        "def busqueda_local(objetivo,solucion_inicial,expresion_inicial):\r\n",
        "  # Inicializamos la mejor solucion, distancia y expresion\r\n",
        "  mejor_solucion=solucion_inicial\r\n",
        "  mejor_distancia=distancia(solucion_inicial,objetivo)\r\n",
        "  mejor_expresion=expresion_inicial\r\n",
        "  iteracion=0   # Un contador para saber las iteraciones que hacemos\r\n",
        "  # Mientras no obtenemos el objetivo\r\n",
        "  while(1):\r\n",
        "    iteracion +=1     # Incrementamos el contador\r\n",
        "    # Calculamos otra solucion aleatoria\r\n",
        "    calculo,expresion_calculo=solucion_aleatoria(numeros,signos)\r\n",
        "\r\n",
        "    # Comparamos si nuestro solución aleatoria calculada es igual al objetivo:\r\n",
        "    # Si lo es acabamos las iteraciones y devolvemos todo\r\n",
        "    if calculo==objetivo:\r\n",
        "      distancia_calculada=0\r\n",
        "      return calculo,distancia_calculada,expresion_calculo,iteracion\r\n",
        "    # Si no calculamos la distancia del nuevo calculo\r\n",
        "    # Si la nueva distancia es mejor que la distancia mejor\r\n",
        "    # Asignamos los mejores valores a este nuevo calculo y seguimos con el bucle\r\n",
        "    else:\r\n",
        "      distancia_calculada=distancia(calculo,objetivo)\r\n",
        "      if mejor_distancia > distancia_calculada:\r\n",
        "        mejor_distancia=distancia_calculada\r\n",
        "        mejor_solucion=calculo\r\n",
        "        mejor_expresion=expresion_calculo\r\n",
        "  return mejor_solucion, mejor_distancia,expresion_calculo,iteracion\r\n",
        "\r\n",
        "# Generamos la solucion inicial\r\n",
        "solucion_inicial,expresion_inicial=solucion_aleatoria(numeros,signos)\r\n",
        "objetivo=55\r\n",
        "calculado,distancia,res_expresion,iteraciones=busqueda_local(objetivo,solucion_inicial,expresion_inicial)\r\n",
        "print(\"*****SEXTA PREGUNTA OBLIGATORIA*****\\n\")\r\n",
        "print(\"*****ALGORITMO DE BUSQUEDA LOCAL*****\")\r\n",
        "print(\"Para el objetivo\",objetivo,\"hemos obtenido los siguientes resultados con busqueda local:\\n\")\r\n",
        "\r\n",
        "print(\"La solucion referencia és:\",solucion_inicial,\"con una expresion\",expresion_inicial)\r\n",
        "print(\"\\nExpresión:\",res_expresion)\r\n",
        "print(\"Resultado:\",int(calculado))\r\n",
        "print(\"Distancia:\",distancia)\r\n",
        "print(\"Iteracion del resultado:\",iteraciones)"
      ],
      "execution_count": 4,
      "outputs": [
        {
          "output_type": "stream",
          "text": [
            "*****SEXTA PREGUNTA OBLIGATORIA*****\n",
            "\n",
            "*****ALGORITMO DE BUSQUEDA LOCAL*****\n",
            "Para el objetivo 55 hemos obtenido los siguientes resultados con busqueda local:\n",
            "\n",
            "La solucion referencia és: 20.0 con una expresion 3*7/1+8-9\n",
            "\n",
            "Expresión: 9*6-3+8/2\n",
            "Resultado: 55\n",
            "Distancia: 0\n",
            "Iteracion del resultado: 118\n"
          ],
          "name": "stdout"
        }
      ]
    },
    {
      "cell_type": "markdown",
      "metadata": {
        "id": "eGDB4K6uk1iN"
      },
      "source": [
        "**7a PREGUNTA**<br>\r\n",
        "**(*)** Calcula la complejidad del algoritmo.<br>\r\n",
        "**Para las busquedas aleatorias, en este caso la busqueda local tenemos una complejidad inusual respecto a los algoritmos clásicos que hemos estado estudiando. Podemos calcular la probabilidad de obtener la solución óptima en base al n.º de iteraciones. Si hay $m$ soluciones posibles la probabilidad de encontrar el óptimo(si es único) es $1/m$.**\r\n",
        "\\begin{equation}\r\n",
        "n> log(1-p)/log(1-(1/m))\r\n",
        "\\end{equation}<br>\r\n",
        "**En nuestro caso damos una estimación de que el número de posibles soluciones $(m)$ para un valor objetivo es de raíz cuadrada del total de posibles combinaciones. Y queremos la probabilidad $(p)$ más grande del 0,9. Con ello tendríamos que aproximadamente necesitamos almenos de 1386 iteraciones para obtener nuestro resultado. Obtenemos una gran mejora en la búsqueda, a pesar de que este algoritmo nos sirve más adecuadamente para buscar la menor distancia.**"
      ]
    },
    {
      "cell_type": "code",
      "metadata": {
        "colab": {
          "base_uri": "https://localhost:8080/"
        },
        "id": "xmez2epZlA46",
        "outputId": "2fc51ca2-f7be-4633-c6d5-c5222683aaf0"
      },
      "source": [
        "import math\r\n",
        "\r\n",
        "def complejidad_local():\r\n",
        "  # Vamos a suponer que el número de soluciones posibles para el valor objetivo es de raíz cuadrada del total de posibles combinaciones\r\n",
        "  m=math.sqrt(362880)\r\n",
        "  p=0.9\r\n",
        "  numerador=math.log((1-p))\r\n",
        "  divide_posibles=1/m\r\n",
        "  denominador=math.log((1-divide_posibles))\r\n",
        "  iteraciones_estimadas=numerador/denominador\r\n",
        "  return round(iteraciones_estimadas)\r\n",
        "\r\n",
        "complejidad=complejidad_local()\r\n",
        "print(\"*****SEPTIMA PREGUNTA OBLIGATORIA*****\\n\")\r\n",
        "print(\"*****COMPLEJIDAD DEL ALGORITMO DE BUSQUEDA LOCAL*****\")\r\n",
        "print(\"La complejidad de nuestro algoritmo de busqueda local és de estimar el número de iteraciones.\")\r\n",
        "print(\"Nuestro algoritmo ha de recorrer almenos\",complejidad,\"iteraciones.\")"
      ],
      "execution_count": 5,
      "outputs": [
        {
          "output_type": "stream",
          "text": [
            "*****SEPTIMA PREGUNTA OBLIGATORIA*****\n",
            "\n",
            "*****COMPLEJIDAD DEL ALGORITMO DE BUSQUEDA LOCAL*****\n",
            "La complejidad de nuestro algoritmo de busqueda local és de estimar el número de iteraciones.\n",
            "Nuestro algoritmo ha de recorrer almenos 1386 iteraciones.\n"
          ],
          "name": "stdout"
        }
      ]
    },
    {
      "cell_type": "markdown",
      "metadata": {
        "id": "zlxgYBkdkV1k"
      },
      "source": [
        "**PREGUNTAS EXTRAS PDF**<br>\r\n",
        "Debe analizarse el problema para encontrar todos los **valores enteros** posibles planteando las siguientes cuestiones:<br>\r\n",
        "\r\n",
        "- ¿Qué valor **máximo** y **mínimo** se pueden obtener según las condiciones del problema?<br>\r\n",
        "\r\n",
        "**Utilizamos el propio algoritmo de fuerza bruta para recorrer todas las posibilidades, y en este caso lo utilizamos para obtener los valores enteros máximo y mínimo sujetados a nuestras restricciones. Obtenemos los siguientes valores:**<br>\r\n",
        "**Máximo= 77 y Mínimo=-69**\r\n",
        "\r\n",
        "- ¿Es posible encontrar **todos los valores enteros posibles** entre dicho mínimo y máximo ?<br>\r\n",
        "\r\n",
        "**Para calcular si es posible calcular todos los valores enteros posibles, usaremos nuestros 2 algoritmos para cerciorarnos que no tenemos problemas con ninguno de nuestros algoritmos. Y en este caso vemos que no tenemos problemas en calcular todos los valores enteros.**<br>"
      ]
    },
    {
      "cell_type": "code",
      "metadata": {
        "colab": {
          "base_uri": "https://localhost:8080/"
        },
        "id": "ubjLPW9zoTtr",
        "outputId": "a6405f8e-a05b-4f9a-b2a3-29d385591970"
      },
      "source": [
        "# Definimos la función de fuerza bruta\r\n",
        "def obtener_maximo_minimo():\r\n",
        "  # Declaramos los maximos y minimos\r\n",
        "  maximo=0\r\n",
        "  minimo=0\r\n",
        "  # Para todas las posibles combinaciones de numeros\r\n",
        "  for combinacion in itertools.permutations(numeros,len(signos)+1):\r\n",
        "    # Para todas las posibles combinaciones de los signos\r\n",
        "    for operacion in itertools.permutations(signos,len(signos)):\r\n",
        "      # Creamos la expresion\r\n",
        "      expresion=crear_expresion(combinacion,operacion)\r\n",
        "      # Evaluamos si el resultado es entero, y si lo es seguimos\r\n",
        "      if eval(expresion).is_integer():\r\n",
        "        resultado=round(eval(expresion))\r\n",
        "        # Si es mas grande que el maximo, hay nuevo máximo\r\n",
        "        if resultado>maximo:\r\n",
        "          maximo=resultado\r\n",
        "          expresion_maximo=expresion\r\n",
        "        # Si es mas pequeño que el minimo, hay nuevo mínimo\r\n",
        "        elif resultado<minimo:\r\n",
        "          minimo=resultado\r\n",
        "          expresion_minimo=expresion\r\n",
        "  return maximo, minimo,expresion_maximo,expresion_minimo\r\n",
        "\r\n",
        "maximo, minimo, expresion_maximo,expresion_minimo=obtener_maximo_minimo()\r\n",
        "print(\"*****PREGUNTAS OPCIONALES PDF*****\\n\")\r\n",
        "print(\"*****VALORES ENTEROS MÁXIMOS Y MÍNIMOS DEL PROBLEMA*****\")\r\n",
        "print(\"El valor entero máximo del problema és de\",maximo,\"conseguido con la expresión\",expresion_maximo)\r\n",
        "print(\"El valor entero minimo del problema és de\",minimo,\"conseguido con la expresión\",expresion_minimo)\r\n",
        "\r\n",
        "# Calculamos todos los valores enteros que no se pueden calcular con fuerza bruta\r\n",
        "valores_no_calculados_bruta = []\r\n",
        "# Booleano que indica si encuentra algun valor entero sin calcular\r\n",
        "funciona_bruta=True\r\n",
        "# Recorrer todos los objetivos\r\n",
        "for valor_objetivo in range(minimo,maximo+1):\r\n",
        "  # Si fuerza bruta no funciona cambia el flag y añade valor a lista\r\n",
        "  if not fuerza_bruta(valor_objetivo):\r\n",
        "    valores_no_calculados_bruta.append(valor_objetivo)\r\n",
        "    funciona_bruta=False\r\n",
        "\r\n",
        "print(\"\\n*****VALORES ENTEROS NO CALCULADOS FUERZA BRUTA*****\")\r\n",
        "#Si el flag funciona es True, todo funciona sino no\r\n",
        "if funciona_bruta==True:\r\n",
        "  print(\"Todos los valores enteros entre el máximo\", maximo,\"y el minimo\", minimo,\"se pueden calcular con fuerza bruta.\")\r\n",
        "else:\r\n",
        "  print(\"El algoritmo de fuerza bruta no ha podido calcular los siguientes valores enteros:\\n\")\r\n",
        "  for valor in valores_no_calculados_bruta:\r\n",
        "    print(valor,\"\\n\")\r\n",
        "\r\n",
        "# Calculamos todos los valores enteros que no se pueden calcular con busqueda local\r\n",
        "valores_no_calculados_local = []\r\n",
        "# Booleano que indica si encuentra algun valor entero sin calcular\r\n",
        "funciona_local=True\r\n",
        "solucion_inicial,expresion_inicial=solucion_aleatoria(numeros,signos)\r\n",
        "# Recorrer todos los objetivos\r\n",
        "for valor_objetivo in range(minimo,maximo+1):\r\n",
        "  \"\"\"Volvemos a añadir la función distancia para evitar el error 'int' object is not callable\"\"\"\r\n",
        "  def distancia(calculado,objetivo):\r\n",
        "    return abs(objetivo-calculado)\r\n",
        "  # Si busqueda local no funciona cambia el flag y añade valor a lista\r\n",
        "  valor_calculado=busqueda_local(valor_objetivo,solucion_inicial,expresion_inicial)\r\n",
        "  if valor_objetivo==valor_calculado[0]: continue\r\n",
        "  else:\r\n",
        "    valores_no_calculados_local.append(valor_objetivo)\r\n",
        "    funciona_local=False\r\n",
        "\r\n",
        "print(\"\\n*****VALORES ENTEROS NO CALCULADOS BUSQUEDA LOCAL*****\")\r\n",
        "#Si el flag funciona es True, todo funciona sino no\r\n",
        "if funciona_local==True:\r\n",
        "  print(\"Todos los valores enteros entre el máximo\", maximo,\"y el minimo\", minimo,\"se pueden calcular con busqueda local.\")\r\n",
        "else:\r\n",
        "  print(\"El algoritmo de busqueda local no ha podido calcular los siguientes valores enteros:\\n\")\r\n",
        "  for valor in valores_no_calculados_local:\r\n",
        "    print(valor,\"\\n\")"
      ],
      "execution_count": 6,
      "outputs": [
        {
          "output_type": "stream",
          "text": [
            "*****PREGUNTAS OPCIONALES PDF*****\n",
            "\n",
            "*****VALORES ENTEROS MÁXIMOS Y MÍNIMOS DEL PROBLEMA*****\n",
            "El valor entero máximo del problema és de 77 conseguido con la expresión 7/1-2+8*9\n",
            "El valor entero minimo del problema és de -69 conseguido con la expresión 1+4/2-8*9\n",
            "\n",
            "*****VALORES ENTEROS NO CALCULADOS FUERZA BRUTA*****\n",
            "Todos los valores enteros entre el máximo 77 y el minimo -69 se pueden calcular con fuerza bruta.\n",
            "\n",
            "*****VALORES ENTEROS NO CALCULADOS BUSQUEDA LOCAL*****\n",
            "Todos los valores enteros entre el máximo 77 y el minimo -69 se pueden calcular con busqueda local.\n"
          ],
          "name": "stdout"
        }
      ]
    },
    {
      "cell_type": "markdown",
      "metadata": {
        "id": "3M6QjTsSkmYe"
      },
      "source": [
        "**8a PREGUNTA**<br>\r\n",
        "**(Opcional)** Según el problema (y tenga sentido), diseña un juego de datos de entrada aleatorios. <br>\r\n",
        "**En nuestro problema en si solo podemos obtener las expresiones para valores enteros entre el máximo y el mínimo antes localizado. Y también habíamos calculado si todos los elementos entre los mínimos y máximos pueden ser calculados.**"
      ]
    },
    {
      "cell_type": "code",
      "metadata": {
        "id": "sJ-N2etjkyWc",
        "colab": {
          "base_uri": "https://localhost:8080/"
        },
        "outputId": "71122f87-eae9-4142-e118-adbd58e63e7f"
      },
      "source": [
        "import random\r\n",
        "\r\n",
        "# Creamos un juego de 10 objetivos variables aleatorios\r\n",
        "objetivos_aleatorios = [random.randrange(minimo,maximo) for _ in range(10)]\r\n",
        "\r\n",
        "print(\"*****OCTAVA PREGUNTA OPCIONAL*****\\n\")\r\n",
        "print(\"Nuestro juego de datos aleatorios es:\")\r\n",
        "print(objetivos_aleatorios)"
      ],
      "execution_count": 7,
      "outputs": [
        {
          "output_type": "stream",
          "text": [
            "*****OCTAVA PREGUNTA OPCIONAL*****\n",
            "\n",
            "Nuestro juego de datos aleatorios es:\n",
            "[60, -28, 72, -60, -37, 16, 8, -34, -62, -26]\n"
          ],
          "name": "stdout"
        }
      ]
    },
    {
      "cell_type": "markdown",
      "metadata": {
        "id": "zy5ZROmjlGo1"
      },
      "source": [
        "**9a PREGUNTA**<br>\r\n",
        "**(Opcional)** Aplica el algoritmo al juego de datos generado. <br>\r\n",
        "**Uso ambos algoritmos para conseguir el mismo valor objetivo. Pero también lo hago para poder ver la gran diferencia entre ambos algoritmos. En mi caso el algoritmo de búsqueda local como podemos observar en el análisis es muy superior respecto a la fuerza bruta, a pesar de ser un algoritmo que hace una busqueda aleatoria.**"
      ]
    },
    {
      "cell_type": "code",
      "metadata": {
        "id": "Jkx8GeiYlUz1",
        "colab": {
          "base_uri": "https://localhost:8080/"
        },
        "outputId": "c4e5e161-b9bb-49e6-a2f3-f19a46c84f8a"
      },
      "source": [
        "print(\"*****NOVENA PREGUNTA OPCIONAL*****\")\r\n",
        "\r\n",
        "# Creamos una solucion inicial\r\n",
        "solucion_inicial,expresion_inicial=solucion_aleatoria(numeros,signos)\r\n",
        "for objetivo_aleatorio in objetivos_aleatorios:\r\n",
        "  \"\"\"Volvemos a añadir la función distancia para evitar el error 'int' object is not callable\"\"\"\r\n",
        "  def distancia(calculado,objetivo):\r\n",
        "    return abs(objetivo-calculado)\r\n",
        "  # Calculamos y imprimimos tanto para el algoritmo de fuerza bruta como para la busqueda local\r\n",
        "  # Algoritmo de fuerza bruta\r\n",
        "  res_expresion_bruta,iteraciones_bruta=fuerza_bruta(objetivo_aleatorio)\r\n",
        "  print(\"\\n*****ALGORITMO DE FUERZA BRUTA*****\")\r\n",
        "  print(\"Para el objetivo\",objetivo_aleatorio,\"hemos obtenido los siguientes resultados con fuerza bruta:\\n\")\r\n",
        "  print(\"Expresión:\",res_expresion_bruta)\r\n",
        "  print(\"Resultado:\",objetivo_aleatorio)\r\n",
        "  print(\"Iteracion del resultado:\",iteraciones_bruta)\r\n",
        "  # Algoritmo de busqueda local\r\n",
        "  calculado,distancia,res_expresion_local,iteraciones_local=busqueda_local(objetivo_aleatorio,solucion_inicial,expresion_inicial)\r\n",
        "  print(\"\\n*****ALGORITMO DE BUSQUEDA LOCAL*****\")\r\n",
        "  print(\"Para el objetivo\",objetivo_aleatorio,\"hemos obtenido los siguientes resultados con busqueda local:\\n\")\r\n",
        "  print(\"La solucion referencia és:\",solucion_inicial,\"con una expresion\",expresion_inicial)\r\n",
        "  print(\"\\nExpresión:\",res_expresion_local)\r\n",
        "  print(\"Resultado:\",int(calculado))\r\n",
        "  print(\"Distancia:\",distancia)\r\n",
        "  print(\"Iteracion del resultado:\",iteraciones_local)"
      ],
      "execution_count": 8,
      "outputs": [
        {
          "output_type": "stream",
          "text": [
            "*****NOVENA PREGUNTA OPCIONAL*****\n",
            "\n",
            "*****ALGORITMO DE FUERZA BRUTA*****\n",
            "Para el objetivo 60 hemos obtenido los siguientes resultados con fuerza bruta:\n",
            "\n",
            "Expresión: 1+7*9-8/2\n",
            "Resultado: 60\n",
            "Iteracion del resultado: 30123\n",
            "\n",
            "*****ALGORITMO DE BUSQUEDA LOCAL*****\n",
            "Para el objetivo 60 hemos obtenido los siguientes resultados con busqueda local:\n",
            "\n",
            "La solucion referencia és: 10.0 con una expresion 1-5+7*8/4\n",
            "\n",
            "Expresión: 8-2/1+9*6\n",
            "Resultado: 60\n",
            "Distancia: 0\n",
            "Iteracion del resultado: 82\n",
            "\n",
            "*****ALGORITMO DE FUERZA BRUTA*****\n",
            "Para el objetivo -28 hemos obtenido los siguientes resultados con fuerza bruta:\n",
            "\n",
            "Expresión: 1-4*8+6/2\n",
            "Resultado: -28\n",
            "Iteracion del resultado: 14049\n",
            "\n",
            "*****ALGORITMO DE BUSQUEDA LOCAL*****\n",
            "Para el objetivo -28 hemos obtenido los siguientes resultados con busqueda local:\n",
            "\n",
            "La solucion referencia és: 10.0 con una expresion 1-5+7*8/4\n",
            "\n",
            "Expresión: 9/3-8*4+1\n",
            "Resultado: -28\n",
            "Distancia: 0\n",
            "Iteracion del resultado: 12\n",
            "\n",
            "*****ALGORITMO DE FUERZA BRUTA*****\n",
            "Para el objetivo 72 hemos obtenido los siguientes resultados con fuerza bruta:\n",
            "\n",
            "Expresión: 2-6/3+8*9\n",
            "Resultado: 72\n",
            "Iteracion del resultado: 61787\n",
            "\n",
            "*****ALGORITMO DE BUSQUEDA LOCAL*****\n",
            "Para el objetivo 72 hemos obtenido los siguientes resultados con busqueda local:\n",
            "\n",
            "La solucion referencia és: 10.0 con una expresion 1-5+7*8/4\n",
            "\n",
            "Expresión: 6/2+8*9-3\n",
            "Resultado: 72\n",
            "Distancia: 0\n",
            "Iteracion del resultado: 319\n",
            "\n",
            "*****ALGORITMO DE FUERZA BRUTA*****\n",
            "Para el objetivo -60 hemos obtenido los siguientes resultados con fuerza bruta:\n",
            "\n",
            "Expresión: 1+4/2-7*9\n",
            "Resultado: -60\n",
            "Iteracion del resultado: 10541\n",
            "\n",
            "*****ALGORITMO DE BUSQUEDA LOCAL*****\n",
            "Para el objetivo -60 hemos obtenido los siguientes resultados con busqueda local:\n",
            "\n",
            "La solucion referencia és: 10.0 con una expresion 1-5+7*8/4\n",
            "\n",
            "Expresión: 7-8/1*9+5\n",
            "Resultado: -60\n",
            "Distancia: 0\n",
            "Iteracion del resultado: 119\n",
            "\n",
            "*****ALGORITMO DE FUERZA BRUTA*****\n",
            "Para el objetivo -37 hemos obtenido los siguientes resultados con fuerza bruta:\n",
            "\n",
            "Expresión: 1+4/2-5*8\n",
            "Resultado: -37\n",
            "Iteracion del resultado: 10277\n",
            "\n",
            "*****ALGORITMO DE BUSQUEDA LOCAL*****\n",
            "Para el objetivo -37 hemos obtenido los siguientes resultados con busqueda local:\n",
            "\n",
            "La solucion referencia és: 10.0 con una expresion 1-5+7*8/4\n",
            "\n",
            "Expresión: 6-5*9+2/1\n",
            "Resultado: -37\n",
            "Distancia: 0\n",
            "Iteracion del resultado: 473\n",
            "\n",
            "*****ALGORITMO DE FUERZA BRUTA*****\n",
            "Para el objetivo 16 hemos obtenido los siguientes resultados con fuerza bruta:\n",
            "\n",
            "Expresión: 1-3+4/2*9\n",
            "Resultado: 16\n",
            "Iteracion del resultado: 5864\n",
            "\n",
            "*****ALGORITMO DE BUSQUEDA LOCAL*****\n",
            "Para el objetivo 16 hemos obtenido los siguientes resultados con busqueda local:\n",
            "\n",
            "La solucion referencia és: 10.0 con una expresion 1-5+7*8/4\n",
            "\n",
            "Expresión: 3+8*5/2-7\n",
            "Resultado: 16\n",
            "Distancia: 0\n",
            "Iteracion del resultado: 36\n",
            "\n",
            "*****ALGORITMO DE FUERZA BRUTA*****\n",
            "Para el objetivo 8 hemos obtenido los siguientes resultados con fuerza bruta:\n",
            "\n",
            "Expresión: 1-2*3/6+8\n",
            "Resultado: 8\n",
            "Iteracion del resultado: 322\n",
            "\n",
            "*****ALGORITMO DE BUSQUEDA LOCAL*****\n",
            "Para el objetivo 8 hemos obtenido los siguientes resultados con busqueda local:\n",
            "\n",
            "La solucion referencia és: 10.0 con una expresion 1-5+7*8/4\n",
            "\n",
            "Expresión: 1+4*9/3-5\n",
            "Resultado: 8\n",
            "Distancia: 0\n",
            "Iteracion del resultado: 17\n",
            "\n",
            "*****ALGORITMO DE FUERZA BRUTA*****\n",
            "Para el objetivo -34 hemos obtenido los siguientes resultados con fuerza bruta:\n",
            "\n",
            "Expresión: 2/1+4-5*8\n",
            "Resultado: -34\n",
            "Iteracion del resultado: 41251\n",
            "\n",
            "*****ALGORITMO DE BUSQUEDA LOCAL*****\n",
            "Para el objetivo -34 hemos obtenido los siguientes resultados con busqueda local:\n",
            "\n",
            "La solucion referencia és: 10.0 con una expresion 1-5+7*8/4\n",
            "\n",
            "Expresión: 5-6*8/1+9\n",
            "Resultado: -34\n",
            "Distancia: 0\n",
            "Iteracion del resultado: 38\n",
            "\n",
            "*****ALGORITMO DE FUERZA BRUTA*****\n",
            "Para el objetivo -62 hemos obtenido los siguientes resultados con fuerza bruta:\n",
            "\n",
            "Expresión: 3/1+7-8*9\n",
            "Resultado: -62\n",
            "Iteracion del resultado: 84115\n",
            "\n",
            "*****ALGORITMO DE BUSQUEDA LOCAL*****\n",
            "Para el objetivo -62 hemos obtenido los siguientes resultados con busqueda local:\n",
            "\n",
            "La solucion referencia és: 10.0 con una expresion 1-5+7*8/4\n",
            "\n",
            "Expresión: 3-9/1*8+7\n",
            "Resultado: -62\n",
            "Distancia: 0\n",
            "Iteracion del resultado: 1955\n",
            "\n",
            "*****ALGORITMO DE FUERZA BRUTA*****\n",
            "Para el objetivo -26 hemos obtenido los siguientes resultados con fuerza bruta:\n",
            "\n",
            "Expresión: 1-5*6+9/3\n",
            "Resultado: -26\n",
            "Iteracion del resultado: 17913\n",
            "\n",
            "*****ALGORITMO DE BUSQUEDA LOCAL*****\n",
            "Para el objetivo -26 hemos obtenido los siguientes resultados con busqueda local:\n",
            "\n",
            "La solucion referencia és: 10.0 con una expresion 1-5+7*8/4\n",
            "\n",
            "Expresión: 3+7/1-9*4\n",
            "Resultado: -26\n",
            "Distancia: 0\n",
            "Iteracion del resultado: 1624\n"
          ],
          "name": "stdout"
        }
      ]
    },
    {
      "cell_type": "markdown",
      "metadata": {
        "id": "eTFWUJQrtGcv"
      },
      "source": [
        "**10a PREGUNTA**<br>\r\n",
        "**(Opcional)** Enumera las referencias que has utilizado(si ha sido necesario) para llevar a cabo el trabajo. <br>\r\n",
        "**Por mi parte no he hecho uso en si de otras referencias relacionados con la algoritmia. Más bien he hecho algún uso de alguna que otra página relacionada con Python para conocer alguna función si lo desconocía. Por otra parte para los algoritmos sobretodo he aprovechado lo aprendido con las Actividades Guiadas y con las clases y he intentado utilizar el algoritmo de búsqueda local y parece que funciona.**"
      ]
    },
    {
      "cell_type": "markdown",
      "metadata": {
        "id": "kAkDPUyRtYyH"
      },
      "source": [
        "**11a PREGUNTA**<br>\r\n",
        "**(Opcional)** Describe brevemente las lineas de como crees que es posible avanzar en el estudio del problema. Ten en cuenta incluso posibles variaciones del problema y/o variaciones al alza del tamaño. <br>\r\n",
        "**La verdad que el problema me ha parecido muy interesante por el hecho de realizar diversas combinaciones sin poder repetir ningún elemento. Me ha parecido muy interesante. Pero tal vez se podría estudiar la ampliación del problema para utilizar un rango más amplio de números enteros o incluso añadir más restricciones como empezar por un orden en concreto de signos. También podríamos eliminar la condición de que sea un número entero para contar las decimales y que el problema sea aun más complejo.**<br>\r\n",
        "**Por otra parte me gustaría añadir que también se podría trabajar en el hecho de usar diferentes algoritmos que no están destinados a ese proposito para buscar la solución. Por ejemplo en mi caso el número de iteraciones es considerablemente menor en el caso de la busqueda local respecto a la fuerza bruta.**"
      ]
    }
  ]
}